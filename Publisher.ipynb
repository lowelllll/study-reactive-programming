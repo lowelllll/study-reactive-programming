{
 "cells": [
  {
   "cell_type": "markdown",
   "source": [
    "# Cold Publisher"
   ],
   "metadata": {
    "collapsed": false
   }
  },
  {
   "cell_type": "code",
   "execution_count": 25,
   "outputs": [
    {
     "name": "stderr",
     "output_type": "stream",
     "text": [
      "The problem is found in one of the loaded libraries: check library imports, dependencies and repositories\n",
      "Error compiling code:\n",
      "@file:DependsOn(\"io.github.microutils:kotlin-logging:1.12.5\")\n",
      "\n",
      "\n",
      "Errors:\n",
      "Unhandled exception during resolve\n",
      "\n",
      "org.jetbrains.kotlinx.jupyter.exceptions.ReplLibraryException: The problem is found in one of the loaded libraries: check library imports, dependencies and repositories\n",
      "\tat org.jetbrains.kotlinx.jupyter.exceptions.ReplLibraryExceptionKt.rethrowAsLibraryException(ReplLibraryException.kt:32)\n",
      "\tat org.jetbrains.kotlinx.jupyter.repl.impl.CellExecutorImpl$ExecutionContext.doAddLibraries(CellExecutorImpl.kt:147)\n",
      "\tat org.jetbrains.kotlinx.jupyter.repl.impl.CellExecutorImpl$ExecutionContext.addLibraries(CellExecutorImpl.kt:182)\n",
      "\tat org.jetbrains.kotlinx.jupyter.api.KotlinKernelHost$DefaultImpls.addLibrary(KotlinKernelHost.kt:42)\n",
      "\tat org.jetbrains.kotlinx.jupyter.repl.impl.CellExecutorImpl$ExecutionContext.addLibrary(CellExecutorImpl.kt:126)\n",
      "\tat jupyter.kotlin.CellExtensionsKt$USE$1.invoke(cellExtensions.kt:18)\n",
      "\tat jupyter.kotlin.CellExtensionsKt$USE$1.invoke(cellExtensions.kt:18)\n",
      "\tat org.jetbrains.kotlinx.jupyter.repl.impl.CellExecutorImpl$ExecutionContext.execute(CellExecutorImpl.kt:242)\n",
      "\tat org.jetbrains.kotlinx.jupyter.repl.impl.CellExecutorImpl$ExecutionContext.runChild(CellExecutorImpl.kt:140)\n",
      "\tat org.jetbrains.kotlinx.jupyter.repl.impl.CellExecutorImpl$ExecutionContext.processExecutionQueue(CellExecutorImpl.kt:237)\n",
      "\tat org.jetbrains.kotlinx.jupyter.repl.impl.CellExecutorImpl.execute(CellExecutorImpl.kt:116)\n",
      "\tat org.jetbrains.kotlinx.jupyter.repl.CellExecutor$DefaultImpls.execute$default(CellExecutor.kt:15)\n",
      "\tat org.jetbrains.kotlinx.jupyter.ReplForJupyterImpl$evalEx$1.invoke(repl.kt:479)\n",
      "\tat org.jetbrains.kotlinx.jupyter.ReplForJupyterImpl$evalEx$1.invoke(repl.kt:470)\n",
      "\tat org.jetbrains.kotlinx.jupyter.ReplForJupyterImpl.withEvalContext(repl.kt:433)\n",
      "\tat org.jetbrains.kotlinx.jupyter.ReplForJupyterImpl.evalEx(repl.kt:470)\n",
      "\tat org.jetbrains.kotlinx.jupyter.messaging.ProtocolKt$shellMessagesHandler$2$res$1.invoke(protocol.kt:318)\n",
      "\tat org.jetbrains.kotlinx.jupyter.messaging.ProtocolKt$shellMessagesHandler$2$res$1.invoke(protocol.kt:312)\n",
      "\tat org.jetbrains.kotlinx.jupyter.JupyterExecutorImpl$runExecution$execThread$1.invoke(execution.kt:37)\n",
      "\tat org.jetbrains.kotlinx.jupyter.JupyterExecutorImpl$runExecution$execThread$1.invoke(execution.kt:32)\n",
      "\tat kotlin.concurrent.ThreadsKt$thread$thread$1.run(Thread.kt:30)\n",
      "Caused by: org.jetbrains.kotlinx.jupyter.exceptions.ReplCompilerException: Unhandled exception during resolve\n",
      "\tat org.jetbrains.kotlinx.jupyter.repl.impl.JupyterCompilerImpl.compileSync(JupyterCompilerImpl.kt:174)\n",
      "\tat org.jetbrains.kotlinx.jupyter.repl.impl.InternalEvaluatorImpl.eval(InternalEvaluatorImpl.kt:99)\n",
      "\tat org.jetbrains.kotlinx.jupyter.repl.impl.CellExecutorImpl$execute$1$result$1.invoke(CellExecutorImpl.kt:75)\n",
      "\tat org.jetbrains.kotlinx.jupyter.repl.impl.CellExecutorImpl$execute$1$result$1.invoke(CellExecutorImpl.kt:73)\n",
      "\tat org.jetbrains.kotlinx.jupyter.ReplForJupyterImpl.withHost(repl.kt:666)\n",
      "\tat org.jetbrains.kotlinx.jupyter.repl.impl.CellExecutorImpl.execute(CellExecutorImpl.kt:73)\n",
      "\tat org.jetbrains.kotlinx.jupyter.repl.CellExecutor$DefaultImpls.execute$default(CellExecutor.kt:15)\n",
      "\tat org.jetbrains.kotlinx.jupyter.repl.impl.CellExecutorImpl$ExecutionContext.execute(CellExecutorImpl.kt:220)\n",
      "\tat org.jetbrains.kotlinx.jupyter.api.libraries.CodeExecutionCallback.invoke(CodeExecutionCallback.kt:8)\n",
      "\tat org.jetbrains.kotlinx.jupyter.api.libraries.CodeExecutionCallback.invoke(CodeExecutionCallback.kt:6)\n",
      "\tat org.jetbrains.kotlinx.jupyter.repl.impl.CellExecutorImpl$ExecutionContext.execute(CellExecutorImpl.kt:242)\n",
      "\tat org.jetbrains.kotlinx.jupyter.repl.impl.CellExecutorImpl$ExecutionContext.runChild(CellExecutorImpl.kt:140)\n",
      "\tat org.jetbrains.kotlinx.jupyter.repl.impl.CellExecutorImpl$ExecutionContext.runChild(CellExecutorImpl.kt:136)\n",
      "\tat org.jetbrains.kotlinx.jupyter.repl.impl.CellExecutorImpl$ExecutionContext.access$runChild(CellExecutorImpl.kt:126)\n",
      "\tat org.jetbrains.kotlinx.jupyter.repl.impl.CellExecutorImpl$ExecutionContext$doAddLibraries$1.invoke(CellExecutorImpl.kt:148)\n",
      "\tat org.jetbrains.kotlinx.jupyter.repl.impl.CellExecutorImpl$ExecutionContext$doAddLibraries$1.invoke(CellExecutorImpl.kt:147)\n",
      "\tat org.jetbrains.kotlinx.jupyter.exceptions.ReplLibraryExceptionKt.rethrowAsLibraryException(ReplLibraryException.kt:30)\n",
      "\t... 20 more\n",
      "Caused by: java.lang.NullPointerException\n",
      "\tat java.base/java.io.File.<init>(File.java:278)\n",
      "\tat kotlin.script.experimental.dependencies.maven.impl.MavenSettingsKt.createMavenSettings(mavenSettings.kt:23)\n",
      "\tat kotlin.script.experimental.dependencies.maven.impl.AetherResolveSession$settings$2.invoke(aether.kt:303)\n",
      "\tat kotlin.script.experimental.dependencies.maven.impl.AetherResolveSession$settings$2.invoke(aether.kt:302)\n",
      "\tat kotlin.SynchronizedLazyImpl.getValue(LazyJVM.kt:74)\n",
      "\tat kotlin.script.experimental.dependencies.maven.impl.AetherResolveSession.getSettings(aether.kt:302)\n",
      "\tat kotlin.script.experimental.dependencies.maven.impl.AetherResolveSession.access$getSettings(aether.kt:59)\n",
      "\tat kotlin.script.experimental.dependencies.maven.impl.AetherResolveSession$remotes$2.invoke(aether.kt:69)\n",
      "\tat kotlin.script.experimental.dependencies.maven.impl.AetherResolveSession$remotes$2.invoke(aether.kt:68)\n",
      "\tat kotlin.SynchronizedLazyImpl.getValue(LazyJVM.kt:74)\n",
      "\tat kotlin.script.experimental.dependencies.maven.impl.AetherResolveSession.getRemotes(aether.kt:68)\n",
      "\tat kotlin.script.experimental.dependencies.maven.impl.AetherResolveSession.request(aether.kt:267)\n",
      "\tat kotlin.script.experimental.dependencies.maven.impl.AetherResolveSession.resolveTree(aether.kt:207)\n",
      "\tat kotlin.script.experimental.dependencies.maven.impl.AetherResolveSession.resolve(aether.kt:156)\n",
      "\tat kotlin.script.experimental.dependencies.maven.MavenDependenciesResolver.resolve(MavenDependenciesResolver.kt:73)\n",
      "\tat org.jetbrains.kotlinx.jupyter.dependencies.RemoteResolverWrapper.resolve(RemoteResolverWrapper.kt)\n",
      "\tat kotlin.script.experimental.dependencies.CompoundDependenciesResolver.resolve(CompoundDependenciesResolver.kt:68)\n",
      "\tat org.jetbrains.kotlinx.jupyter.dependencies.JupyterScriptDependenciesResolverImpl$tryResolve$1.invokeSuspend(JupyterScriptDependenciesResolverImpl.kt:153)\n",
      "\tat org.jetbrains.kotlinx.jupyter.dependencies.JupyterScriptDependenciesResolverImpl$tryResolve$1.invoke(JupyterScriptDependenciesResolverImpl.kt)\n",
      "\tat org.jetbrains.kotlinx.jupyter.dependencies.JupyterScriptDependenciesResolverImpl$tryResolve$1.invoke(JupyterScriptDependenciesResolverImpl.kt)\n",
      "\tat org.jetbrains.kotlinx.jupyter.dependencies.JupyterScriptDependenciesResolverImpl$doResolve$result$1.invokeSuspend(JupyterScriptDependenciesResolverImpl.kt:202)\n",
      "\tat kotlin.coroutines.jvm.internal.BaseContinuationImpl.resumeWith(ContinuationImpl.kt:33)\n",
      "\tat kotlinx.coroutines.DispatchedTask.run(DispatchedTask.kt:106)\n",
      "\tat kotlinx.coroutines.EventLoopImplBase.processNextEvent(EventLoop.common.kt:284)\n",
      "\tat kotlinx.coroutines.BlockingCoroutine.joinBlocking(Builders.kt:85)\n",
      "\tat kotlinx.coroutines.BuildersKt__BuildersKt.runBlocking(Builders.kt:59)\n",
      "\tat kotlinx.coroutines.BuildersKt.runBlocking(Unknown Source)\n",
      "\tat kotlinx.coroutines.BuildersKt__BuildersKt.runBlocking$default(Builders.kt:38)\n",
      "\tat kotlinx.coroutines.BuildersKt.runBlocking$default(Unknown Source)\n",
      "\tat org.jetbrains.kotlinx.jupyter.dependencies.JupyterScriptDependenciesResolverImpl.doResolve(JupyterScriptDependenciesResolverImpl.kt:202)\n",
      "\tat org.jetbrains.kotlinx.jupyter.dependencies.JupyterScriptDependenciesResolverImpl.tryResolve(JupyterScriptDependenciesResolverImpl.kt:152)\n",
      "\tat org.jetbrains.kotlinx.jupyter.dependencies.JupyterScriptDependenciesResolverImpl.resolveFromAnnotations(JupyterScriptDependenciesResolverImpl.kt:126)\n",
      "\tat org.jetbrains.kotlinx.jupyter.dependencies.ScriptDependencyAnnotationHandlerImpl.configure(ScriptDependencyAnnotationHandlerImpl.kt:20)\n",
      "\tat org.jetbrains.kotlinx.jupyter.codegen.FileAnnotationsProcessorImpl.process$processCollected(FileAnnotationsProcessorImpl.kt:51)\n",
      "\tat org.jetbrains.kotlinx.jupyter.codegen.FileAnnotationsProcessorImpl.process(FileAnnotationsProcessorImpl.kt:83)\n",
      "\tat org.jetbrains.kotlinx.jupyter.ReplForJupyterImpl.onAnnotationsHandler(repl.kt:444)\n",
      "\tat org.jetbrains.kotlinx.jupyter.ReplForJupyterImpl.access$onAnnotationsHandler(repl.kt:187)\n",
      "\tat org.jetbrains.kotlinx.jupyter.ReplForJupyterImpl$compilerConfiguration$1$1$1.invoke(repl.kt:301)\n",
      "\tat org.jetbrains.kotlinx.jupyter.ReplForJupyterImpl$compilerConfiguration$1$1$1.invoke(repl.kt:301)\n",
      "\tat kotlin.script.experimental.api.ScriptCompilationKt.refineOnAnnotations(scriptCompilation.kt:302)\n",
      "\tat org.jetbrains.kotlin.scripting.resolve.RefineCompilationConfigurationKt.refineScriptCompilationConfiguration(refineCompilationConfiguration.kt:249)\n",
      "\tat org.jetbrains.kotlin.scripting.compiler.plugin.definitions.CliScriptDependenciesProvider.calculateRefinedConfiguration(CliScriptDependenciesProvider.kt:45)\n",
      "\tat org.jetbrains.kotlin.scripting.compiler.plugin.definitions.CliScriptDependenciesProvider.getScriptConfigurationResult(CliScriptDependenciesProvider.kt:32)\n",
      "\tat org.jetbrains.kotlin.scripting.compiler.plugin.dependencies.ScriptsCompilationDependenciesKt.collectScriptsCompilationDependencies(ScriptsCompilationDependencies.kt:55)\n",
      "\tat org.jetbrains.kotlin.scripting.compiler.plugin.impl.CompilationContextKt.collectRefinedSourcesAndUpdateEnvironment(compilationContext.kt:364)\n",
      "\tat org.jetbrains.kotlin.scripting.compiler.plugin.impl.KJvmReplCompilerBase.compile$suspendImpl(KJvmReplCompilerBase.kt:85)\n",
      "\tat org.jetbrains.kotlin.scripting.compiler.plugin.impl.KJvmReplCompilerBase.compile(KJvmReplCompilerBase.kt)\n",
      "\tat kotlin.script.experimental.api.ReplCompiler.compile$suspendImpl(replCompilation.kt:49)\n",
      "\tat kotlin.script.experimental.api.ReplCompiler.compile(replCompilation.kt)\n",
      "\tat org.jetbrains.kotlinx.jupyter.repl.impl.JupyterCompilerImpl$compileSync$resultWithDiagnostics$1.invokeSuspend(JupyterCompilerImpl.kt:173)\n",
      "\tat kotlin.coroutines.jvm.internal.BaseContinuationImpl.resumeWith(ContinuationImpl.kt:33)\n",
      "\tat kotlinx.coroutines.DispatchedTask.run(DispatchedTask.kt:106)\n",
      "\tat kotlinx.coroutines.EventLoopImplBase.processNextEvent(EventLoop.common.kt:284)\n",
      "\tat kotlinx.coroutines.BlockingCoroutine.joinBlocking(Builders.kt:85)\n",
      "\tat kotlinx.coroutines.BuildersKt__BuildersKt.runBlocking(Builders.kt:59)\n",
      "\tat kotlinx.coroutines.BuildersKt.runBlocking(Unknown Source)\n",
      "\tat kotlinx.coroutines.BuildersKt__BuildersKt.runBlocking$default(Builders.kt:38)\n",
      "\tat kotlinx.coroutines.BuildersKt.runBlocking$default(Unknown Source)\n",
      "\tat org.jetbrains.kotlinx.jupyter.repl.impl.JupyterCompilerImpl.compileSync(JupyterCompilerImpl.kt:173)\n",
      "\t... 36 more\n",
      "\n"
     ]
    }
   ],
   "source": [
    "USE {\n",
    "    repositories {\n",
    "        // Any additional repositories. Maven central is already included\n",
    "        // maven(\"<url>\")\n",
    "    }\n",
    "    dependencies {\n",
    "        // Here we add kandy plotting library\n",
    "//        implementation(\"org.slf4j:slf4j-simple:1.7.25\")\n",
    "        implementation(\"io.github.microutils:kotlin-logging:1.12.5\")\n",
    "    }\n",
    "    } // see https://datalore.jetbrains.com/report/static/sBgNeHxfaKG1tVRDWl3KqU/DMtWM05XWOT2Oi6yxZjVkJ"
   ],
   "metadata": {
    "collapsed": false,
    "ExecuteTime": {
     "end_time": "2023-07-30T14:34:44.268775Z",
     "start_time": "2023-07-30T14:34:44.040323Z"
    }
   }
  },
  {
   "cell_type": "code",
   "execution_count": 26,
   "outputs": [],
   "source": [
    "System.setProperties(Properties().apply { setProperty(\"logger.level.root\", \"info\") })"
   ],
   "metadata": {
    "collapsed": false,
    "ExecuteTime": {
     "end_time": "2023-07-30T14:34:46.886140Z",
     "start_time": "2023-07-30T14:34:46.646919Z"
    }
   }
  },
  {
   "cell_type": "code",
   "execution_count": 27,
   "outputs": [
    {
     "data": {
      "text/plain": "{idea.io.use.nio2=true, logger.level.root=info}"
     },
     "execution_count": 27,
     "metadata": {},
     "output_type": "execute_result"
    }
   ],
   "source": [
    "System.getProperties()"
   ],
   "metadata": {
    "collapsed": false,
    "ExecuteTime": {
     "end_time": "2023-07-30T14:34:48.418094Z",
     "start_time": "2023-07-30T14:34:48.266456Z"
    }
   }
  },
  {
   "cell_type": "code",
   "execution_count": 14,
   "outputs": [],
   "source": [
    "val logger = mu.KotlinLogging.logger {  }"
   ],
   "metadata": {
    "collapsed": false,
    "ExecuteTime": {
     "end_time": "2023-07-30T14:21:54.801377Z",
     "start_time": "2023-07-30T14:21:54.492723Z"
    }
   }
  },
  {
   "cell_type": "code",
   "execution_count": 30,
   "outputs": [],
   "source": [
    "fun logging(message: String) {\n",
    "    println(\"[${Thread.currentThread().name}] $message\")\n",
    "}"
   ],
   "metadata": {
    "collapsed": false,
    "ExecuteTime": {
     "end_time": "2023-07-30T14:36:30.573478Z",
     "start_time": "2023-07-30T14:36:30.236226Z"
    }
   }
  },
  {
   "cell_type": "code",
   "execution_count": 6,
   "outputs": [],
   "source": [
    "import java.util.concurrent.ExecutorService\n",
    "import java.util.concurrent.Executors\n",
    "import java.util.concurrent.Flow\n",
    "import java.util.concurrent.Flow.Subscriber\n",
    "\n",
    "\n",
    "class SimpleColdSubscription(private val iterator: Iterator<Int>, private val subscriber: Subscriber<in Int>) :\n",
    "    Flow.Subscription {\n",
    "    private val executorService = Executors.newSingleThreadExecutor()\n",
    "    override fun request(n: Long) {\n",
    "        executorService.submit {\n",
    "            for (i in (0 until n)) {\n",
    "                if (iterator.hasNext()) {\n",
    "                    subscriber.onNext(iterator.next())\n",
    "                } else {\n",
    "                    subscriber.onComplete()\n",
    "                    executorService.shutdown()\n",
    "                    break\n",
    "                }\n",
    "            }\n",
    "\n",
    "         }\n",
    "    }\n",
    "\n",
    "    override fun cancel() {\n",
    "        subscriber.onComplete()\n",
    "    }\n",
    "\n",
    "}"
   ],
   "metadata": {
    "collapsed": false,
    "ExecuteTime": {
     "end_time": "2023-07-30T14:04:24.210589Z",
     "start_time": "2023-07-30T14:04:23.376411Z"
    }
   }
  },
  {
   "cell_type": "code",
   "execution_count": 9,
   "outputs": [],
   "source": [
    "import java.util.*\n",
    "\n",
    "class SimpleColdPublisher : Flow.Publisher<Int> {\n",
    "    override fun subscribe(subscriber: Flow.Subscriber<in Int>) {\n",
    "        val iter = Collections.synchronizedList((1..10).toList()).iterator()\n",
    "        val subscription = Line_6_jupyter.SimpleColdSubscription(iter, subscriber)\n",
    "        subscriber.onSubscribe(subscription)\n",
    "\n",
    "    }\n",
    "}"
   ],
   "metadata": {
    "collapsed": false,
    "ExecuteTime": {
     "end_time": "2023-07-30T14:04:57.458692Z",
     "start_time": "2023-07-30T14:04:57.043210Z"
    }
   }
  },
  {
   "cell_type": "code",
   "execution_count": 31,
   "outputs": [],
   "source": [
    "class SimpleNamedSubscriber<T>(private val name: String) : Flow.Subscriber<T> {\n",
    "    var subscription: Flow.Subscription? = null // 리모컨 역할을 함\n",
    "\n",
    "    override fun onSubscribe(subscription: Flow.Subscription) {\n",
    "        this.subscription = subscription\n",
    "        this.subscription?.request(1)\n",
    "        logging(\"onSubscribe\")\n",
    "    }\n",
    "\n",
    "    override fun onError(throwable: Throwable) {\n",
    "        logging(\"onError: $throwable\")\n",
    "    }\n",
    "\n",
    "    override fun onComplete() {\n",
    "        logging(\"onComplete\")\n",
    "    }\n",
    "\n",
    "    override fun onNext(item: T) {\n",
    "        logging(\"name: $name, onNext: $item\")\n",
    "        this.subscription?.request(1)\n",
    "    }\n",
    "\n",
    "    fun cancel() {\n",
    "        logging(\"cancel\")\n",
    "        this.subscription?.cancel()\n",
    "    }\n",
    "\n",
    "}"
   ],
   "metadata": {
    "collapsed": false,
    "ExecuteTime": {
     "end_time": "2023-07-30T14:37:07.289433Z",
     "start_time": "2023-07-30T14:37:06.907574Z"
    }
   }
  },
  {
   "cell_type": "code",
   "execution_count": 32,
   "outputs": [
    {
     "name": "stdout",
     "output_type": "stream",
     "text": [
      "[Execution of code '...'] onSubscribe\n",
      "[pool-5-thread-1] name: subscriber1, onNext: 1\n",
      "[pool-5-thread-1] name: subscriber1, onNext: 2\n",
      "[pool-5-thread-1] name: subscriber1, onNext: 3\n",
      "[pool-5-thread-1] name: subscriber1, onNext: 4\n",
      "[pool-5-thread-1] name: subscriber1, onNext: 5\n",
      "[pool-5-thread-1] name: subscriber1, onNext: 6\n",
      "[pool-5-thread-1] name: subscriber1, onNext: 7\n",
      "[pool-5-thread-1] name: subscriber1, onNext: 8\n",
      "[pool-5-thread-1] name: subscriber1, onNext: 9\n",
      "[pool-5-thread-1] name: subscriber1, onNext: 10\n",
      "[pool-5-thread-1] onComplete\n",
      "[Execution of code '...'] onSubscribe\n",
      "[pool-6-thread-1] name: subscriber2, onNext: 1\n",
      "[pool-6-thread-1] name: subscriber2, onNext: 2\n",
      "[pool-6-thread-1] name: subscriber2, onNext: 3\n",
      "[pool-6-thread-1] name: subscriber2, onNext: 4\n",
      "[pool-6-thread-1] name: subscriber2, onNext: 5\n",
      "[pool-6-thread-1] name: subscriber2, onNext: 6\n",
      "[pool-6-thread-1] name: subscriber2, onNext: 7\n",
      "[pool-6-thread-1] name: subscriber2, onNext: 8\n",
      "[pool-6-thread-1] name: subscriber2, onNext: 9\n",
      "[pool-6-thread-1] name: subscriber2, onNext: 10\n",
      "[pool-6-thread-1] onComplete\n"
     ]
    }
   ],
   "source": [
    "\n",
    "val publisher = SimpleColdPublisher()\n",
    "\n",
    "val subscriber1 = SimpleNamedSubscriber<Int>(\"subscriber1\")\n",
    "publisher.subscribe(subscriber1)\n",
    "\n",
    "Thread.sleep(1000)\n",
    "\n",
    "val subscriber2 = SimpleNamedSubscriber<Int>(\"subscriber2\")\n",
    "publisher.subscribe(subscriber2)\n"
   ],
   "metadata": {
    "collapsed": false,
    "ExecuteTime": {
     "end_time": "2023-07-30T14:37:11.162358Z",
     "start_time": "2023-07-30T14:37:09.840653Z"
    }
   }
  },
  {
   "cell_type": "code",
   "execution_count": 28,
   "outputs": [],
   "source": [],
   "metadata": {
    "collapsed": false,
    "ExecuteTime": {
     "end_time": "2023-07-30T14:34:51.822795Z",
     "start_time": "2023-07-30T14:34:51.687751Z"
    }
   }
  },
  {
   "cell_type": "code",
   "execution_count": null,
   "outputs": [],
   "source": [],
   "metadata": {
    "collapsed": false
   }
  }
 ],
 "metadata": {
  "kernelspec": {
   "display_name": "Kotlin",
   "language": "kotlin",
   "name": "kotlin"
  },
  "language_info": {
   "name": "kotlin",
   "version": "1.8.20",
   "mimetype": "text/x-kotlin",
   "file_extension": ".kt",
   "pygments_lexer": "kotlin",
   "codemirror_mode": "text/x-kotlin",
   "nbconvert_exporter": ""
  }
 },
 "nbformat": 4,
 "nbformat_minor": 0
}

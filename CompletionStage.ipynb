{
 "cells": [
  {
   "cell_type": "markdown",
   "source": [
    "# CompletionStage\n",
    "\n",
    "```java\n",
    "public interface CompletionStage<T> {\n",
    "    public <U> CompletionStage<U> thenApply(Function<? super T,? extends U> fn);\n",
    "    public <U> CompletionStage<U> thenApplyAsync(Function<? super T,? extends U> fn);\n",
    "\n",
    "    public CompletionStage<Void> thenAccept(Consumer<? super T> action);\n",
    "    public CompletionStage<Void> thenAcceptAsync(Consumer<? super T> action);\n",
    "\n",
    "    public CompletionStage<Void> thenRun(Runnable action);\n",
    "    public CompletionStage<Void> thenRunAsync(Runnable action);\n",
    "\n",
    "    public <U> CompletionStage<U> thenCompose(Function<? super T, ? extends CompletionStage<U!>> fn);\n",
    " public <U> CompletionStage<U> thenComposeAsync(Function<? super T, ? extends CompletionStage<U!>> fn);\n",
    "\n",
    "    public CompletionStage<T> exceptionally(Function<Throwable, ? extends T> fn);\n",
    "}\n",
    "```\n",
    "\n",
    "- 여러 연산자를 활용해 비동기 task들을 실행하고 값을 변경하는등 chaining을 이용한 조합이 가능함\n",
    "- 에러를 처리하기 위한 콜백을 제공한다\n",
    "- - 비동기적인 작업을 수행\n",
    "- callback을 여러개 둘 수 있는 구조\n",
    "- 비동기 논블럭킹 개발을 하는데 도움이 됨\n",
    "- non-blocking하려면 별도의 쓰레드가 필요함\n",
    "\n",
    "\n",
    "### ForkJoinPool\n",
    "- thread pool\n",
    "- 기본 사이즈 = 할당된 cpu 코어 - 1\n",
    "- 데몬 쓰레드로 동작\n",
    "    - main 스레드가 종료되면 바로 종료됨\n",
    "- 동작 (fork & join)\n",
    "    - 태스크를 서브태스크로 나눔\n",
    "    - join을 통해서 결과를 생성함"
   ],
   "metadata": {
    "collapsed": false
   }
  },
  {
   "cell_type": "code",
   "execution_count": 1,
   "outputs": [],
   "source": [],
   "metadata": {
    "collapsed": false,
    "ExecuteTime": {
     "end_time": "2023-07-25T16:24:58.627293Z",
     "start_time": "2023-07-25T16:24:58.610534Z"
    }
   }
  },
  {
   "cell_type": "code",
   "execution_count": 5,
   "outputs": [
    {
     "name": "stderr",
     "output_type": "stream",
     "text": [
      "Failed to process '%use' command. Need some arguments for 'use' command\n",
      "org.jetbrains.kotlinx.jupyter.exceptions.ReplPreprocessingException: Need some arguments for 'use' command\n",
      "org.jetbrains.kotlinx.jupyter.exceptions.ReplPreprocessingException: Failed to process '%use' command. Need some arguments for 'use' command\n",
      "\tat org.jetbrains.kotlinx.jupyter.magics.AbstractMagicsHandler.handle(AbstractMagicsHandler.kt:51)\n",
      "\tat org.jetbrains.kotlinx.jupyter.magics.AbstractMagicsProcessor$Companion.processSingleMagic(AbstractMagicsProcessor.kt:66)\n",
      "\tat org.jetbrains.kotlinx.jupyter.magics.MagicsProcessor.processMagics(MagicsProcessor.kt:15)\n",
      "\tat org.jetbrains.kotlinx.jupyter.magics.MagicsProcessor.processMagics$default(MagicsProcessor.kt:11)\n",
      "\tat org.jetbrains.kotlinx.jupyter.magics.MagicsProcessor.process(MagicsProcessor.kt:21)\n",
      "\tat org.jetbrains.kotlinx.jupyter.magics.CompoundCodePreprocessor.process$iteration(CompoundCodePreprocessor.kt:30)\n",
      "\tat org.jetbrains.kotlinx.jupyter.magics.CompoundCodePreprocessor.process(CompoundCodePreprocessor.kt:37)\n",
      "\tat org.jetbrains.kotlinx.jupyter.repl.impl.CellExecutorImpl.execute(CellExecutorImpl.kt:57)\n",
      "\tat org.jetbrains.kotlinx.jupyter.repl.CellExecutor$DefaultImpls.execute$default(CellExecutor.kt:15)\n",
      "\tat org.jetbrains.kotlinx.jupyter.ReplForJupyterImpl$evalEx$1.invoke(repl.kt:479)\n",
      "\tat org.jetbrains.kotlinx.jupyter.ReplForJupyterImpl$evalEx$1.invoke(repl.kt:470)\n",
      "\tat org.jetbrains.kotlinx.jupyter.ReplForJupyterImpl.withEvalContext(repl.kt:433)\n",
      "\tat org.jetbrains.kotlinx.jupyter.ReplForJupyterImpl.evalEx(repl.kt:470)\n",
      "\tat org.jetbrains.kotlinx.jupyter.messaging.ProtocolKt$shellMessagesHandler$2$res$1.invoke(protocol.kt:318)\n",
      "\tat org.jetbrains.kotlinx.jupyter.messaging.ProtocolKt$shellMessagesHandler$2$res$1.invoke(protocol.kt:312)\n",
      "\tat org.jetbrains.kotlinx.jupyter.JupyterExecutorImpl$runExecution$execThread$1.invoke(execution.kt:37)\n",
      "\tat org.jetbrains.kotlinx.jupyter.JupyterExecutorImpl$runExecution$execThread$1.invoke(execution.kt:32)\n",
      "\tat kotlin.concurrent.ThreadsKt$thread$thread$1.run(Thread.kt:30)\n",
      "Caused by: org.jetbrains.kotlinx.jupyter.exceptions.ReplPreprocessingException: Need some arguments for 'use' command\n",
      "\tat org.jetbrains.kotlinx.jupyter.magics.UseMagicsHandler.handleUse(UseMagicsHandler.kt:16)\n",
      "\tat org.jetbrains.kotlinx.jupyter.magics.AbstractMagicsHandler$callbackMap$1.invoke(AbstractMagicsHandler.kt:26)\n",
      "\tat org.jetbrains.kotlinx.jupyter.magics.AbstractMagicsHandler$callbackMap$1.invoke(AbstractMagicsHandler.kt:26)\n",
      "\tat org.jetbrains.kotlinx.jupyter.magics.AbstractMagicsHandler.handle(AbstractMagicsHandler.kt:62)\n",
      "\tat org.jetbrains.kotlinx.jupyter.magics.AbstractMagicsHandler.handle(AbstractMagicsHandler.kt:48)\n",
      "\t... 17 more\n",
      "\n"
     ]
    }
   ],
   "source": [
    " val logger = KotlinLogging.logger {  }"
   ],
   "metadata": {
    "collapsed": false,
    "ExecuteTime": {
     "end_time": "2023-07-25T16:28:21.258252Z",
     "start_time": "2023-07-25T16:28:21.231675Z"
    }
   }
  },
  {
   "cell_type": "code",
   "execution_count": null,
   "outputs": [],
   "source": [],
   "metadata": {
    "collapsed": false
   }
  }
 ],
 "metadata": {
  "kernelspec": {
   "display_name": "Kotlin",
   "language": "kotlin",
   "name": "kotlin"
  },
  "language_info": {
   "name": "kotlin",
   "version": "1.8.20",
   "mimetype": "text/x-kotlin",
   "file_extension": ".kt",
   "pygments_lexer": "kotlin",
   "codemirror_mode": "text/x-kotlin",
   "nbconvert_exporter": ""
  },
  "ktnbPluginMetadata": {
   "isAddProjectLibrariesToClasspath": false
  }
 },
 "nbformat": 4,
 "nbformat_minor": 0
}

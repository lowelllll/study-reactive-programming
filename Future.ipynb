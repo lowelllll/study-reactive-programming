{
 "cells": [
  {
   "cell_type": "markdown",
   "source": [
    "# ExecutorService\n",
    "\n",
    "- 쓰레드 풀을 이용해 비동기적으로 작업을 실행하고 관리\n",
    "- 쓰레드 풀을 이용해 자원을 효율적으로 관리\n",
    "- 별도의 쓰레드를 생성하고 관리하지 않아도 되어서 코드를 간결하게 유지할 수 있음\n",
    "\n",
    "method\n",
    "- execute: Runnable 인터페이스를 구현한 작업을 쓰레드풀에서 비동기적으로 실행\n",
    "- submit: Callable 인터페이스를 구현한 작업을 쓰레드풀에서 비동기적으로 실행, 해당 작업 결과를 Future<T>로 반환\n",
    "- shutdown: ExecutorService 를 종료, 더이상 task를 받지 않음                                                                                 \n",
    "\n"
   ],
   "metadata": {
    "collapsed": false
   }
  },
  {
   "cell_type": "code",
   "execution_count": 1,
   "outputs": [
    {
     "data": {
      "text/plain": "java.util.concurrent.ThreadPoolExecutor@7f9b2075[Running, pool size = 0, active threads = 0, queued tasks = 0, completed tasks = 0]"
     },
     "execution_count": 1,
     "metadata": {},
     "output_type": "execute_result"
    }
   ],
   "source": [
    "import java.util.concurrent.ExecutorService\n",
    "import java.util.concurrent.Executors\n",
    "\n",
    "Executors.newSingleThreadExecutor() // 단일 쓰레드로 구성된 스레드풀을 생성\n",
    "\n",
    "Executors.newFixedThreadPool(1) // 고정된 크기의 쓰레드 풀 생성\n",
    "\n",
    "Executors.newCachedThreadPool() // 사용 가능한 쓰레드가 없다면 새로 생성, 있다면 재사용. 쓰레드가 일정시간 사용되지 않으면 회수함\n",
    "\n",
    "Executors.newScheduledThreadPool(1) // 스케줄링 기능을 갖춘 코정 크기의 쓰레드풀 생성. 주기적이거나 지연이 발생하는 작업을 실행\n",
    "\n",
    "Executors.newWorkStealingPool() // work streal 알고지름을 사용하는 ForkJoinPool 생성"
   ],
   "metadata": {
    "collapsed": false,
    "ExecuteTime": {
     "end_time": "2023-07-24T16:41:08.031682Z",
     "start_time": "2023-07-24T16:41:07.639419Z"
    }
   }
  },
  {
   "cell_type": "markdown",
   "source": [
    "# Future\n",
    "\n",
    "- 비동기 적인 작업 수행\n",
    "- 작업이 완료되면 결과를 반환\n"
   ],
   "metadata": {
    "collapsed": false
   }
  },
  {
   "cell_type": "code",
   "execution_count": 3,
   "outputs": [],
   "source": [
    "import java.util.concurrent.Executor\n",
    "import java.util.concurrent.Executors\n",
    "import java.util.concurrent.Future\n",
    "\n",
    "fun getFuture(): Future<Int> {\n",
    "    val executor = Executors.newSingleThreadExecutor()\n",
    "    try {\n",
    "        return executor.submit<Int> { 1 }\n",
    "    } finally {\n",
    "        executor.shutdown()\n",
    "    }\n",
    "}\n",
    "\n",
    "\n",
    "fun getFutureCompleteAfter1s(): Future<Int> {\n",
    "    val executor = Executors.newSingleThreadExecutor()\n",
    "    try {\n",
    "        return executor.submit<Int> {\n",
    "            Thread.sleep(1000)\n",
    "            1\n",
    "        }\n",
    "    } finally {\n",
    "        executor.shutdown()\n",
    "    }\n",
    "}"
   ],
   "metadata": {
    "collapsed": false,
    "ExecuteTime": {
     "end_time": "2023-07-25T16:07:40.385362Z",
     "start_time": "2023-07-25T16:07:39.741048Z"
    }
   }
  },
  {
   "cell_type": "code",
   "execution_count": 5,
   "outputs": [
    {
     "name": "stdout",
     "output_type": "stream",
     "text": [
      "false\n",
      "false\n"
     ]
    }
   ],
   "source": [
    "val future = getFuture()\n",
    "println(future.isDone) // task가 완료되었다면 true\n",
    "println(future.isCancelled) // task가 명시적으로 취소되었다면 true"
   ],
   "metadata": {
    "collapsed": false,
    "ExecuteTime": {
     "end_time": "2023-07-25T16:09:55.247475Z",
     "start_time": "2023-07-25T16:09:54.990818Z"
    }
   }
  },
  {
   "cell_type": "code",
   "execution_count": 7,
   "outputs": [
    {
     "name": "stdout",
     "output_type": "stream",
     "text": [
      "true\n",
      "false\n",
      "1\n"
     ]
    }
   ],
   "source": [
    "val result = future.get() // 결과를 구할때까지 thread를 block\n",
    "println(future.isDone)\n",
    "println(future.isCancelled)\n",
    "println(result)"
   ],
   "metadata": {
    "collapsed": false,
    "ExecuteTime": {
     "end_time": "2023-07-25T16:10:49.892838Z",
     "start_time": "2023-07-25T16:10:49.476957Z"
    }
   }
  },
  {
   "cell_type": "code",
   "execution_count": 9,
   "outputs": [
    {
     "name": "stderr",
     "output_type": "stream",
     "text": [
      "null\n",
      "java.util.concurrent.TimeoutException\n",
      "\tat java.base/java.util.concurrent.FutureTask.get(FutureTask.java:204)\n",
      "\tat Line_9_jupyter.<init>(Line_9.jupyter.kts:4)\n",
      "\tat java.base/jdk.internal.reflect.NativeConstructorAccessorImpl.newInstance0(Native Method)\n",
      "\tat java.base/jdk.internal.reflect.NativeConstructorAccessorImpl.newInstance(NativeConstructorAccessorImpl.java:62)\n",
      "\tat java.base/jdk.internal.reflect.DelegatingConstructorAccessorImpl.newInstance(DelegatingConstructorAccessorImpl.java:45)\n",
      "\tat java.base/java.lang.reflect.Constructor.newInstance(Constructor.java:490)\n",
      "\tat kotlin.script.experimental.jvm.BasicJvmScriptEvaluator.evalWithConfigAndOtherScriptsResults(BasicJvmScriptEvaluator.kt:105)\n",
      "\tat kotlin.script.experimental.jvm.BasicJvmScriptEvaluator.invoke$suspendImpl(BasicJvmScriptEvaluator.kt:47)\n",
      "\tat kotlin.script.experimental.jvm.BasicJvmScriptEvaluator.invoke(BasicJvmScriptEvaluator.kt)\n",
      "\tat kotlin.script.experimental.jvm.BasicJvmReplEvaluator.eval(BasicJvmReplEvaluator.kt:49)\n",
      "\tat org.jetbrains.kotlinx.jupyter.repl.impl.InternalEvaluatorImpl$eval$resultWithDiagnostics$1.invokeSuspend(InternalEvaluatorImpl.kt:103)\n",
      "\tat kotlin.coroutines.jvm.internal.BaseContinuationImpl.resumeWith(ContinuationImpl.kt:33)\n",
      "\tat kotlinx.coroutines.DispatchedTask.run(DispatchedTask.kt:106)\n",
      "\tat kotlinx.coroutines.EventLoopImplBase.processNextEvent(EventLoop.common.kt:284)\n",
      "\tat kotlinx.coroutines.BlockingCoroutine.joinBlocking(Builders.kt:85)\n",
      "\tat kotlinx.coroutines.BuildersKt__BuildersKt.runBlocking(Builders.kt:59)\n",
      "\tat kotlinx.coroutines.BuildersKt.runBlocking(Unknown Source)\n",
      "\tat kotlinx.coroutines.BuildersKt__BuildersKt.runBlocking$default(Builders.kt:38)\n",
      "\tat kotlinx.coroutines.BuildersKt.runBlocking$default(Unknown Source)\n",
      "\tat org.jetbrains.kotlinx.jupyter.repl.impl.InternalEvaluatorImpl.eval(InternalEvaluatorImpl.kt:103)\n",
      "\tat org.jetbrains.kotlinx.jupyter.repl.impl.CellExecutorImpl$execute$1$result$1.invoke(CellExecutorImpl.kt:75)\n",
      "\tat org.jetbrains.kotlinx.jupyter.repl.impl.CellExecutorImpl$execute$1$result$1.invoke(CellExecutorImpl.kt:73)\n",
      "\tat org.jetbrains.kotlinx.jupyter.ReplForJupyterImpl.withHost(repl.kt:666)\n",
      "\tat org.jetbrains.kotlinx.jupyter.repl.impl.CellExecutorImpl.execute(CellExecutorImpl.kt:73)\n",
      "\tat org.jetbrains.kotlinx.jupyter.repl.CellExecutor$DefaultImpls.execute$default(CellExecutor.kt:15)\n",
      "\tat org.jetbrains.kotlinx.jupyter.ReplForJupyterImpl$evalEx$1.invoke(repl.kt:479)\n",
      "\tat org.jetbrains.kotlinx.jupyter.ReplForJupyterImpl$evalEx$1.invoke(repl.kt:470)\n",
      "\tat org.jetbrains.kotlinx.jupyter.ReplForJupyterImpl.withEvalContext(repl.kt:433)\n",
      "\tat org.jetbrains.kotlinx.jupyter.ReplForJupyterImpl.evalEx(repl.kt:470)\n",
      "\tat org.jetbrains.kotlinx.jupyter.messaging.ProtocolKt$shellMessagesHandler$2$res$1.invoke(protocol.kt:318)\n",
      "\tat org.jetbrains.kotlinx.jupyter.messaging.ProtocolKt$shellMessagesHandler$2$res$1.invoke(protocol.kt:312)\n",
      "\tat org.jetbrains.kotlinx.jupyter.JupyterExecutorImpl$runExecution$execThread$1.invoke(execution.kt:37)\n",
      "\tat org.jetbrains.kotlinx.jupyter.JupyterExecutorImpl$runExecution$execThread$1.invoke(execution.kt:32)\n",
      "\tat kotlin.concurrent.ThreadsKt$thread$thread$1.run(Thread.kt:30)\n"
     ]
    }
   ],
   "source": [
    "import java.util.concurrent.TimeUnit\n",
    "\n",
    "val future = getFutureCompleteAfter1s()\n",
    "val result = future.get(500L, TimeUnit.MICROSECONDS) // 500ms 타임아웃 설정 -> 에러 발생"
   ],
   "metadata": {
    "collapsed": false,
    "ExecuteTime": {
     "end_time": "2023-07-25T16:12:03.504043Z",
     "start_time": "2023-07-25T16:12:03.300890Z"
    }
   }
  },
  {
   "cell_type": "code",
   "execution_count": 10,
   "outputs": [
    {
     "name": "stdout",
     "output_type": "stream",
     "text": [
      "true\n",
      "true\n",
      "true\n"
     ]
    }
   ],
   "source": [
    "val future = getFuture()\n",
    "val isCancllled = future.cancel(true) // future의 작업을 취소, 취소할 수 없는 상황이면 false 반환\n",
    "// parameter(mayInterruptIfRunning)가 false이면 시작하지 않은 작업에 대해서만 취소한다\n",
    "\n",
    "println(isCancllled)\n",
    "println(future.isDone)\n",
    "println(future.isCancelled)\n",
    "\n"
   ],
   "metadata": {
    "collapsed": false,
    "ExecuteTime": {
     "end_time": "2023-07-25T16:13:57.883710Z",
     "start_time": "2023-07-25T16:13:57.614931Z"
    }
   }
  },
  {
   "cell_type": "markdown",
   "source": [
    "## Future 인터페이스의 한계\n",
    "- cancel을 제외하고 외부에서 future를 컨트롤 할 수 없음\n",
    "- 반환된 결과를 get()으로 접근하기에 비동기 처리가 어려움\n",
    "- 완료나 에러가 발생했는지 구분이 어려움"
   ],
   "metadata": {
    "collapsed": false
   }
  },
  {
   "cell_type": "code",
   "execution_count": null,
   "outputs": [],
   "source": [],
   "metadata": {
    "collapsed": false
   }
  }
 ],
 "metadata": {
  "kernelspec": {
   "display_name": "Kotlin",
   "language": "kotlin",
   "name": "kotlin"
  },
  "language_info": {
   "name": "kotlin",
   "version": "1.8.20",
   "mimetype": "text/x-kotlin",
   "file_extension": ".kt",
   "pygments_lexer": "kotlin",
   "codemirror_mode": "text/x-kotlin",
   "nbconvert_exporter": ""
  },
  "ktnbPluginMetadata": {
   "isAddProjectLibrariesToClasspath": false
  }
 },
 "nbformat": 4,
 "nbformat_minor": 0
}
